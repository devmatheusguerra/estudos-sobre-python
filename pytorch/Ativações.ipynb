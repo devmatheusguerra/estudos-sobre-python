{
 "cells": [
  {
   "cell_type": "markdown",
   "id": "6b968cb6",
   "metadata": {},
   "source": [
    "## Ativações não-lineares"
   ]
  },
  {
   "cell_type": "code",
   "execution_count": 2,
   "id": "46bf9e3c",
   "metadata": {},
   "outputs": [],
   "source": [
    "import torch\n",
    "from torch import nn"
   ]
  },
  {
   "cell_type": "code",
   "execution_count": 4,
   "id": "8d2da987",
   "metadata": {},
   "outputs": [],
   "source": [
    "from sklearn.datasets import make_classification\n",
    "import matplotlib.pyplot as plt\n",
    "import numpy as np\n",
    "\n",
    "np.random.seed(46)\n",
    "\n",
    "X, Y = make_classification(n_features=2, n_redundant=0, n_informative=1, n_clusters_per_class=1)\n",
    "\n",
    "def plotmodel(w1, w2, b):\n",
    "    plt.scatter(X[:,0], X[:,1], marker='o', c=Y, edgecolor='k')\n",
    "    \n",
    "    xmin, xmax = plt.gca().get_xlim()\n",
    "    ymin, ymax = plt.gca().get_ylim()\n",
    "    \n",
    "    x = np.linspace(-2, 4, 50)\n",
    "    y = (-w1 * x -b) / w2\n",
    "    \n",
    "    plt.axvline(0,-1,1, color='k', linewidth=1)\n",
    "    plt.axhline(0,-2,4, color='k', linewidth=1)\n",
    "    plt.plot(x, y)\n",
    "    plt.grid(True)\n",
    "    \n",
    "    plt.xlim(xmin, xmax)\n",
    "    plt.ylim(ymin, ymax)"
   ]
  },
  {
   "cell_type": "code",
   "execution_count": 8,
   "id": "928b9719",
   "metadata": {},
   "outputs": [],
   "source": [
    "perceptron = nn.Linear(2, 1)\n",
    "sigmoide = nn.Sigmoid()\n",
    "\n",
    "perceptron.weight = nn.Parameter(torch.Tensor([[5,1]]))\n",
    "perceptron.bias = nn.Parameter(torch.Tensor([-0.4]))"
   ]
  },
  {
   "cell_type": "code",
   "execution_count": 10,
   "id": "44b05f5a",
   "metadata": {},
   "outputs": [
    {
     "ename": "NameError",
     "evalue": "name 'plotmodel' is not defined",
     "output_type": "error",
     "traceback": [
      "\u001b[0;31m---------------------------------------------------------------------------\u001b[0m",
      "\u001b[0;31mNameError\u001b[0m                                 Traceback (most recent call last)",
      "Input \u001b[0;32mIn [10]\u001b[0m, in \u001b[0;36m<cell line: 1>\u001b[0;34m()\u001b[0m\n\u001b[0;32m----> 1\u001b[0m \u001b[43mplotmodel\u001b[49m()\n",
      "\u001b[0;31mNameError\u001b[0m: name 'plotmodel' is not defined"
     ]
    }
   ],
   "source": []
  },
  {
   "cell_type": "code",
   "execution_count": null,
   "id": "dcbd4f49",
   "metadata": {},
   "outputs": [],
   "source": []
  }
 ],
 "metadata": {
  "kernelspec": {
   "display_name": "Python 3 (ipykernel)",
   "language": "python",
   "name": "python3"
  },
  "language_info": {
   "codemirror_mode": {
    "name": "ipython",
    "version": 3
   },
   "file_extension": ".py",
   "mimetype": "text/x-python",
   "name": "python",
   "nbconvert_exporter": "python",
   "pygments_lexer": "ipython3",
   "version": "3.10.3"
  }
 },
 "nbformat": 4,
 "nbformat_minor": 5
}
