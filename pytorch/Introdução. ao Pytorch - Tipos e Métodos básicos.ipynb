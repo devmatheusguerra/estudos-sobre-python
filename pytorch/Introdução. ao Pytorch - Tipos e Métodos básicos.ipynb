{
 "cells": [
  {
   "cell_type": "markdown",
   "id": "7e110926",
   "metadata": {},
   "source": [
    "# Curso sobre Numpy"
   ]
  },
  {
   "cell_type": "code",
   "execution_count": 1,
   "id": "0868fa92",
   "metadata": {},
   "outputs": [],
   "source": [
    "import torch\n",
    "import numpy as np"
   ]
  },
  {
   "cell_type": "markdown",
   "id": "2565724d",
   "metadata": {},
   "source": [
    "## Instaciando tensores a partir de matrizes python"
   ]
  },
  {
   "cell_type": "code",
   "execution_count": 13,
   "id": "b00b005a",
   "metadata": {},
   "outputs": [
    {
     "name": "stdout",
     "output_type": "stream",
     "text": [
      "torch.float32\n",
      "tensor([[1., 2., 3.],\n",
      "        [4., 5., 6.]])\n",
      "\n",
      "\n",
      "torch.float32\n",
      "tensor([[1., 2., 3.],\n",
      "        [4., 5., 6.]])\n",
      "\n",
      "\n",
      "torch.float32\n",
      "tensor([[1., 2., 3.],\n",
      "        [4., 5., 6.]])\n",
      "\n",
      "\n",
      "torch.float64\n",
      "tensor([[1., 2., 3.],\n",
      "        [4., 5., 6.]], dtype=torch.float64)\n",
      "\n",
      "\n",
      "torch.int64\n",
      "tensor([[1, 2, 3],\n",
      "        [4, 5, 6]])\n",
      "torch.float32\n",
      "tensor([[1., 2., 3.],\n",
      "        [4., 5., 6.]])\n"
     ]
    }
   ],
   "source": [
    "lista = [\n",
    "    [1,2,3],\n",
    "    [4,5,6]\n",
    "]\n",
    "\n",
    "tns = torch.Tensor(lista)\n",
    "print(tns.dtype)\n",
    "print(tns)\n",
    "\n",
    "print(\"\\n\")\n",
    "tns = torch.FloatTensor(lista)\n",
    "print(tns.dtype)\n",
    "print(tns)\n",
    "\n",
    "print(\"\\n\")\n",
    "tns = torch.FloatTensor(lista)\n",
    "print(tns.dtype)\n",
    "print(tns)\n",
    "\n",
    "print(\"\\n\")\n",
    "tns = torch.DoubleTensor(lista)\n",
    "print(tns.dtype)\n",
    "print(tns)\n",
    "\n",
    "print(\"\\n\")\n",
    "tns = torch.LongTensor(lista)\n",
    "print(tns.dtype)\n",
    "print(tns)\n",
    "\n",
    "tns = torch.Tensor(lista)\n",
    "print(tns.dtype)\n",
    "print(tns)\n",
    "\n"
   ]
  },
  {
   "cell_type": "markdown",
   "id": "572aaaa2",
   "metadata": {},
   "source": [
    "## Instaciando tensores a partir do NumPy \n",
    "**(Assim preserva o tipo do ndarray numpy)**"
   ]
  },
  {
   "cell_type": "code",
   "execution_count": 3,
   "id": "6349c123",
   "metadata": {},
   "outputs": [
    {
     "name": "stdout",
     "output_type": "stream",
     "text": [
      "<class 'numpy.ndarray'> => [[0.82158894 0.29312281 0.95882138 0.36443957]\n",
      " [0.78881708 0.4736249  0.07925509 0.18295334]\n",
      " [0.93442373 0.89704459 0.06113969 0.39516083]]\n",
      "\n",
      "<class 'torch.Tensor'> => tensor([[0.8216, 0.2931, 0.9588, 0.3644],\n",
      "        [0.7888, 0.4736, 0.0793, 0.1830],\n",
      "        [0.9344, 0.8970, 0.0611, 0.3952]], dtype=torch.float64)\n",
      "\n"
     ]
    }
   ],
   "source": [
    "arr = np.random.rand(3,4)\n",
    "tns = torch.from_numpy(arr)\n",
    "\n",
    "print(\"{} => {}\\n\".format(type(arr), arr))\n",
    "print(\"{} => {}\\n\".format(type(tns), tns))"
   ]
  },
  {
   "cell_type": "markdown",
   "id": "4eab979e",
   "metadata": {},
   "source": [
    "## Tensores inicializados"
   ]
  },
  {
   "cell_type": "code",
   "execution_count": 4,
   "id": "1126e58c",
   "metadata": {},
   "outputs": [
    {
     "name": "stdout",
     "output_type": "stream",
     "text": [
      "tensor([[1., 1., 1.],\n",
      "        [1., 1., 1.]])\n",
      "tensor([[0., 0., 0., 0., 0.],\n",
      "        [0., 0., 0., 0., 0.],\n",
      "        [0., 0., 0., 0., 0.],\n",
      "        [0., 0., 0., 0., 0.]])\n",
      "tensor([[ 0.0751, -0.3793,  0.7479],\n",
      "        [-0.2786,  0.9234,  0.0902],\n",
      "        [ 0.3424, -0.1556, -0.0043]])\n"
     ]
    }
   ],
   "source": [
    "tns1 = torch.ones(2,3)\n",
    "tns0 = torch.zeros(4,5)\n",
    "tnsr = torch.randn(3,3)\n",
    "\n",
    "print(tns1)\n",
    "print(tns0)\n",
    "print(tnsr)"
   ]
  },
  {
   "cell_type": "markdown",
   "id": "7962cb6b",
   "metadata": {},
   "source": [
    "## Tensor para array Numpy"
   ]
  },
  {
   "cell_type": "code",
   "execution_count": 5,
   "id": "751f8edb",
   "metadata": {},
   "outputs": [
    {
     "name": "stdout",
     "output_type": "stream",
     "text": [
      "[[ 0.07511143 -0.37934506  0.74794936]\n",
      " [-0.27858204  0.9233658   0.09018133]\n",
      " [ 0.34244385 -0.15556625 -0.00430131]]\n",
      "<class 'numpy.ndarray'>\n"
     ]
    }
   ],
   "source": [
    "arr = tnsr.data.numpy()\n",
    "print(arr)\n",
    "print(type(arr))"
   ]
  },
  {
   "cell_type": "markdown",
   "id": "3f40cf3f",
   "metadata": {},
   "source": [
    "## Indexação"
   ]
  },
  {
   "cell_type": "code",
   "execution_count": 6,
   "id": "97d70542",
   "metadata": {},
   "outputs": [
    {
     "name": "stdout",
     "output_type": "stream",
     "text": [
      "tensor([[ 0.0751, -0.3793,  0.7479],\n",
      "        [-0.2786,  0.9234,  0.0902],\n",
      "        [ 0.3424, -0.1556, -0.0043]])\n",
      "\n",
      "\n",
      "tensor([[ 7.5111e-02, -3.7935e-01, -2.2000e+01],\n",
      "        [-2.7858e-01,  9.2337e-01,  9.0181e-02],\n",
      "        [ 3.4244e-01, -1.5557e-01, -4.3013e-03]])\n",
      "\n",
      "\n",
      "Fatia do meu tensor\n",
      "=======================\n",
      "tensor([[  0.0751,  -0.3793, -22.0000],\n",
      "        [ -0.2786,   0.9234,   0.0902]])\n",
      "\n",
      "\n",
      "Fatia do meu tensor\n",
      "=======================\n",
      "tensor([[ 0.0751, -0.3793],\n",
      "        [-0.2786,  0.9234]])\n"
     ]
    }
   ],
   "source": [
    "print(tnsr)\n",
    "tnsr[0,2] = -22\n",
    "\n",
    "print('\\n')\n",
    "print(tnsr)\n",
    "\n",
    "print('\\n')\n",
    "print(\"Fatia do meu tensor\")\n",
    "print(\"=======================\")\n",
    "print(tnsr[0:2])\n",
    "\n",
    "print('\\n')\n",
    "print(\"Fatia do meu tensor\")\n",
    "print(\"=======================\")\n",
    "print(tnsr[0:2, 0:2])"
   ]
  },
  {
   "cell_type": "markdown",
   "id": "a7440b9e",
   "metadata": {},
   "source": [
    "#### NOTA DE AULA\n",
    "\n",
    "- Os tensores são **mutáveis**\n",
    "- Podem executar operações aritméticas, **desde que tenham os mesmos shapes**"
   ]
  },
  {
   "cell_type": "markdown",
   "id": "5239232e",
   "metadata": {},
   "source": [
    "## Funções size() e view()\n",
    "\n",
    "```python\n",
    "<torch.Tensor>.view() # Equivale ao reshape do Numpy\n",
    "```\n"
   ]
  },
  {
   "cell_type": "code",
   "execution_count": 7,
   "id": "3e23fef8",
   "metadata": {},
   "outputs": [
    {
     "name": "stdout",
     "output_type": "stream",
     "text": [
      "torch.Size([2, 3])\n",
      "tensor([-1.6332, -1.0785, -0.8780,  0.8524, -1.9122, -0.7306,  3.6712,  1.4743,\n",
      "        -1.3050,  0.4749,  0.0141, -0.1655])\n"
     ]
    }
   ],
   "source": [
    "tns3d = torch.randn(2,2,3)\n",
    "print(tns1.size())\n",
    "print(tns3d.view(12))\n"
   ]
  },
  {
   "cell_type": "markdown",
   "id": "0d4e5747",
   "metadata": {},
   "source": [
    "## GPU Cast"
   ]
  },
  {
   "cell_type": "code",
   "execution_count": 15,
   "id": "e5f7f515",
   "metadata": {},
   "outputs": [
    {
     "name": "stdout",
     "output_type": "stream",
     "text": [
      "It's available MPS!\n",
      "mps\n",
      "tensor([[[2., 2., 2., 2.],\n",
      "         [2., 2., 2., 2.],\n",
      "         [2., 2., 2., 2.]],\n",
      "\n",
      "        [[2., 2., 2., 2.],\n",
      "         [2., 2., 2., 2.],\n",
      "         [2., 2., 2., 2.]]], device='mps:0')\n"
     ]
    }
   ],
   "source": [
    "if torch.has_mps:\n",
    "    print(\"It's available MPS!\")\n",
    "    device = torch.device('mps')\n",
    "else:\n",
    "    print(\"It's available CPU!\")\n",
    "    device = torch.device('cpu')\n",
    "    \n",
    "print(device)\n",
    "\n",
    "a = torch.ones(2, 3, 4, device=device)\n",
    "print(a * 2)\n"
   ]
  },
  {
   "cell_type": "code",
   "execution_count": null,
   "id": "3389d976",
   "metadata": {},
   "outputs": [],
   "source": []
  }
 ],
 "metadata": {
  "kernelspec": {
   "display_name": "Python 3 (ipykernel)",
   "language": "python",
   "name": "python3"
  },
  "language_info": {
   "codemirror_mode": {
    "name": "ipython",
    "version": 3
   },
   "file_extension": ".py",
   "mimetype": "text/x-python",
   "name": "python",
   "nbconvert_exporter": "python",
   "pygments_lexer": "ipython3",
   "version": "3.10.3"
  },
  "vscode": {
   "interpreter": {
    "hash": "31e95d9e31e2817edd932e5fbb832088404fb65a1551b191ec5578787e3a9ee6"
   }
  }
 },
 "nbformat": 4,
 "nbformat_minor": 5
}
