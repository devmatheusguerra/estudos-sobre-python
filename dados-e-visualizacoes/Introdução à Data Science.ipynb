{
 "cells": [
  {
   "cell_type": "markdown",
   "id": "7e110926",
   "metadata": {},
   "source": [
    "# Introdução à Data Science"
   ]
  },
  {
   "cell_type": "code",
   "execution_count": 2,
   "id": "0868fa92",
   "metadata": {},
   "outputs": [],
   "source": [
    "import pandas as pd"
   ]
  },
  {
   "cell_type": "markdown",
   "id": "5787f194",
   "metadata": {},
   "source": [
    "### Notas de aula\n",
    "\n",
    "Pandas tem o método **read_csv**\n",
    "```python \n",
    "read_csv(\"path_to_csv_file\")\n",
    "```\n",
    "Nele é possível importar os dados de um arquivo csv em formato de DataFrame do Pandas.\n",
    "\n"
   ]
  },
  {
   "cell_type": "code",
   "execution_count": 8,
   "id": "fd99833e",
   "metadata": {},
   "outputs": [
    {
     "name": "stdout",
     "output_type": "stream",
     "text": [
      "Tipo de dado na variável notas: <class 'pandas.core.frame.DataFrame'>\n"
     ]
    }
   ],
   "source": [
    "notas = pd.read_csv(\"./dados/ratings.csv\")\n",
    "print(\"Tipo de dado na variável notas:\",type(notas))"
   ]
  },
  {
   "cell_type": "markdown",
   "id": "c20b3617",
   "metadata": {},
   "source": [
    "### Notas de aula\n",
    "\n"
   ]
  },
  {
   "cell_type": "code",
   "execution_count": null,
   "id": "212bf40e",
   "metadata": {},
   "outputs": [],
   "source": []
  }
 ],
 "metadata": {
  "kernelspec": {
   "display_name": "Python 3.10.3 64-bit",
   "language": "python",
   "name": "python3"
  },
  "language_info": {
   "codemirror_mode": {
    "name": "ipython",
    "version": 3
   },
   "file_extension": ".py",
   "mimetype": "text/x-python",
   "name": "python",
   "nbconvert_exporter": "python",
   "pygments_lexer": "ipython3",
   "version": "3.10.3"
  },
  "vscode": {
   "interpreter": {
    "hash": "aee8b7b246df8f9039afb4144a1f6fd8d2ca17a180786b69acc140d282b71a49"
   }
  }
 },
 "nbformat": 4,
 "nbformat_minor": 5
}
